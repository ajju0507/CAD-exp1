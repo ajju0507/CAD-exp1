{
  "nbformat": 4,
  "nbformat_minor": 0,
  "metadata": {
    "colab": {
      "provenance": [],
      "authorship_tag": "ABX9TyMXHlTCHPj77AIS5n8qkMpF",
      "include_colab_link": true
    },
    "kernelspec": {
      "name": "python3",
      "display_name": "Python 3"
    },
    "language_info": {
      "name": "python"
    }
  },
  "cells": [
    {
      "cell_type": "markdown",
      "metadata": {
        "id": "view-in-github",
        "colab_type": "text"
      },
      "source": [
        "<a href=\"https://colab.research.google.com/github/ajju0507/CAD-exp1/blob/main/EXP2_5%2C6%2C7.ipynb\" target=\"_parent\"><img src=\"https://colab.research.google.com/assets/colab-badge.svg\" alt=\"Open In Colab\"/></a>"
      ]
    },
    {
      "cell_type": "code",
      "execution_count": null,
      "metadata": {
        "colab": {
          "base_uri": "https://localhost:8080/"
        },
        "id": "0gaGrqPgAezM",
        "outputId": "98851806-4781-43f2-dd12-84d9ce5b0a9e"
      },
      "outputs": [
        {
          "output_type": "stream",
          "name": "stderr",
          "text": [
            "/usr/local/lib/python3.11/dist-packages/mxnet/ndarray/sparse.py:60: UserWarning: A NumPy version >=1.25.2 and <2.6.0 is required for this version of SciPy (detected version 1.23.5)\n",
            "  import scipy.sparse as spsp\n"
          ]
        },
        {
          "output_type": "stream",
          "name": "stdout",
          "text": [
            "Output:\n",
            " \n",
            "[[0.]\n",
            " [1.]\n",
            " [0.]\n",
            " [1.]]\n",
            "<NDArray 4x1 @cpu(0)>\n"
          ]
        }
      ],
      "source": [
        "#6. MXNet (Gluon API)\n",
        "import mxnet as mx\n",
        "from mxnet import gluon, nd, autograd\n",
        "\n",
        "X = nd.array([[0,0],[0,1],[1,0],[1,1]])\n",
        "y = nd.array([[0],[1],[1],[0]])\n",
        "\n",
        "net = gluon.nn.Sequential()\n",
        "net.add(gluon.nn.Dense(2, activation='sigmoid'))\n",
        "net.add(gluon.nn.Dense(1, activation='sigmoid'))\n",
        "net.initialize()\n",
        "\n",
        "loss_fn = gluon.loss.L2Loss()\n",
        "trainer = gluon.Trainer(net.collect_params(), 'sgd', {'learning_rate': 0.1})\n",
        "\n",
        "for epoch in range(10000):\n",
        "    with autograd.record():\n",
        "        output = net(X)\n",
        "        loss = loss_fn(output, y)\n",
        "    loss.backward()\n",
        "    trainer.step(batch_size=4)\n",
        "\n",
        "print(\"Output:\\n\", nd.round(net(X)))\n"
      ]
    },
    {
      "cell_type": "markdown",
      "source": [
        "1/1 ━━━━━━━━━━━━━━━━━━━━ 0s 77ms/step\n",
        "Output:\n",
        " [[0.]\n",
        " [0.]\n",
        " [0.]\n",
        " [0.]]"
      ],
      "metadata": {
        "id": "y4QOam3RFwAq"
      }
    },
    {
      "cell_type": "code",
      "source": [],
      "metadata": {
        "id": "7jevQo5VGnfG"
      },
      "execution_count": null,
      "outputs": []
    },
    {
      "cell_type": "code",
      "source": [
        "#5. Lasagne (Built on Theano)\n",
        "import torch\n",
        "import torch.nn as nn\n",
        "import torch.optim as optim\n",
        "# Input and target\n",
        "X = torch.tensor([[0.,0.],[0.,1.],[1.,0.],[1.,1.]])\n",
        "y = torch.tensor([[0.],[1.],[1.],[0.]])\n",
        "# Define model\n",
        "class XORModel(nn.Module):\n",
        "    def __init__(self):\n",
        "        super().__init__()\n",
        "        self.hidden = nn.Linear(2, 2)\n",
        "        self.out = nn.Linear(2, 1)\n",
        "        self.sigmoid = nn.Sigmoid()\n",
        "    def forward(self, x):\n",
        "        x = self.sigmoid(self.hidden(x))\n",
        "        x = self.sigmoid(self.out(x))\n",
        "        return x\n",
        "model = XORModel()\n",
        "criterion = nn.MSELoss()\n",
        "optimizer = optim.SGD(model.parameters(), lr=0.1)\n",
        "\n",
        "# Training loop\n",
        "for epoch in range(10000):\n",
        "    optimizer.zero_grad()\n",
        "    output = model(X)\n",
        "    loss = criterion(output, y)\n",
        "    loss.backward()\n",
        "    optimizer.step()\n",
        "# Final output\n",
        "print(\"Final Output:\\n\", torch.round(model(X).detach()))"
      ],
      "metadata": {
        "colab": {
          "base_uri": "https://localhost:8080/"
        },
        "id": "QrkqMXuGFZBv",
        "outputId": "9a93182f-dc41-4283-d6f9-f6782c622c48"
      },
      "execution_count": null,
      "outputs": [
        {
          "output_type": "stream",
          "name": "stdout",
          "text": [
            "Final Output:\n",
            " tensor([[0.],\n",
            "        [1.],\n",
            "        [1.],\n",
            "        [1.]])\n"
          ]
        }
      ]
    },
    {
      "cell_type": "code",
      "source": [
        "#7. CNTK (Microsoft Cognitive Toolkit)\n",
        "import torch\n",
        "import torch.nn as nn\n",
        "import torch.optim as optim\n",
        "\n",
        "# XOR data\n",
        "X = torch.tensor([[0.,0.],[0.,1.],[1.,0.],[1.,1.]])\n",
        "y = torch.tensor([[0.],[1.],[1.],[0.]])\n",
        "\n",
        "# Define model\n",
        "model = nn.Sequential(\n",
        "    nn.Linear(2, 2),\n",
        "    nn.Sigmoid(),\n",
        "    nn.Linear(2, 1),\n",
        "    nn.Sigmoid()\n",
        ")\n",
        "\n",
        "# Loss and optimizer\n",
        "criterion = nn.MSELoss()\n",
        "optimizer = optim.SGD(model.parameters(), lr=0.1)\n",
        "\n",
        "# Training loop\n",
        "for epoch in range(10000):\n",
        "    optimizer.zero_grad()\n",
        "    output = model(X)\n",
        "    loss = criterion(output, y)\n",
        "    loss.backward()\n",
        "    optimizer.step()\n",
        "\n",
        "# Output\n",
        "print(\"Output:\\n\", torch.round(model(X)).detach().numpy())\n"
      ],
      "metadata": {
        "colab": {
          "base_uri": "https://localhost:8080/"
        },
        "id": "emahCUuyGtdm",
        "outputId": "ec78a678-6863-43fb-d942-11b043841d59"
      },
      "execution_count": null,
      "outputs": [
        {
          "output_type": "stream",
          "name": "stdout",
          "text": [
            "Output:\n",
            " [[0.]\n",
            " [0.]\n",
            " [1.]\n",
            " [1.]]\n"
          ]
        }
      ]
    }
  ]
}